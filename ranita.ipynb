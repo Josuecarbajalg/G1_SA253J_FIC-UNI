{
 "cells": [
  {
   "cell_type": "markdown",
   "id": "0d1a7fe8",
   "metadata": {},
   "source": [
    "<h1><b>PE-01 Sistema de Abastecimiento de Agua</b></h1>"
   ]
  },
  {
   "cell_type": "markdown",
   "id": "cde926ed",
   "metadata": {},
   "source": [
    "<em><b><p style=\"text-align:right\">Carbajal, Huachos & Kozono - G1 SA253J (2024-I) FIC-UNI</p></b></em>"
   ]
  },
  {
   "cell_type": "markdown",
   "id": "7143af43",
   "metadata": {},
   "source": [
    "<center><b><u>PROYECTO</u></b></center>\n",
    "<center>CREACION DEL SERVICIO DE AGUA POTABLE Y SANEAMIENTO RURAL EN AGUA BLANCA, DISTRITO DE HUAMACHUCO, PROVINCIA DE SÁNCHEZ CARRIÓN – LA LIBERTAD</center>"
   ]
  },
  {
   "cell_type": "markdown",
   "id": "2fcbdcaf",
   "metadata": {},
   "source": [
    "## Descripción del proyecto"
   ]
  },
  {
   "cell_type": "markdown",
   "id": "7cfda1f3",
   "metadata": {},
   "source": [
    "El proyecto de abastecimiento de agua potable contempla la construcción de 1 toma ladera para manantiales con las respectivas conducciones hasta la cámara de reunión proyectada, una línea de conducción, un reservorio, cámaras rompe presión tipo 06 donde se requieran en el tramo de la línea de conducción, línea de distribución, pase aéreo y sistema de distribución."
   ]
  },
  {
   "cell_type": "markdown",
   "id": "b5230850",
   "metadata": {},
   "source": [
    "## Ubicación del proyecto"
   ]
  },
  {
   "cell_type": "markdown",
   "id": "5a25644e",
   "metadata": {},
   "source": [
    "* <b>Departamento</b><br>\n",
    "&nbsp;&nbsp;&nbsp;&nbsp;&nbsp;&nbsp;&nbsp;&nbsp;&nbsp;La Libertad\n",
    "* <b>Provincia</b><br>\n",
    "&nbsp;&nbsp;&nbsp;&nbsp;&nbsp;&nbsp;&nbsp;&nbsp;&nbsp;Sanchez Carrion\n",
    "* <b>Distrito</b><br>\n",
    "&nbsp;&nbsp;&nbsp;&nbsp;&nbsp;&nbsp;&nbsp;&nbsp;&nbsp;Huamachuco\n",
    "* <b>Localidad</b><br>\n",
    "&nbsp;&nbsp;&nbsp;&nbsp;&nbsp;&nbsp;&nbsp;&nbsp;&nbsp;Agua Blanca"
   ]
  },
  {
   "cell_type": "markdown",
   "id": "a675cceb",
   "metadata": {},
   "source": [
    "# <b>G1-PE1-SA253J-2024I</b>"
   ]
  },
  {
   "cell_type": "code",
   "execution_count": null,
   "id": "af4d0644",
   "metadata": {},
   "outputs": [],
   "source": []
  },
  {
   "cell_type": "markdown",
   "id": "b73d8c45",
   "metadata": {},
   "source": [
    "# <b>Planos de diseño</b>"
   ]
  },
  {
   "cell_type": "markdown",
   "id": "7c43eddc",
   "metadata": {},
   "source": [
    "<h2>Plano de distribución general de obras</h2>"
   ]
  },
  {
   "cell_type": "code",
   "execution_count": null,
   "id": "99c4dd50",
   "metadata": {},
   "outputs": [],
   "source": []
  },
  {
   "cell_type": "markdown",
   "id": "d82eefda",
   "metadata": {},
   "source": [
    "<h2>Plano de perfil del sistema de conducción</h2>"
   ]
  },
  {
   "cell_type": "code",
   "execution_count": null,
   "id": "fa4d6d13",
   "metadata": {},
   "outputs": [],
   "source": []
  },
  {
   "cell_type": "markdown",
   "id": "d3f10f71",
   "metadata": {},
   "source": [
    "<h2>Planos de detalles hidráulicos del tanque de almacenamiento</h2>"
   ]
  },
  {
   "cell_type": "code",
   "execution_count": 2,
   "id": "0aec11ee",
   "metadata": {},
   "outputs": [
    {
     "data": {
      "text/html": [
       "\n",
       "        <iframe\n",
       "            width=\"860\"\n",
       "            height=\"500\"\n",
       "            src=\"RESERVORIO_5_M3.pdf\"\n",
       "            frameborder=\"0\"\n",
       "            allowfullscreen\n",
       "            \n",
       "        ></iframe>\n",
       "        "
      ],
      "text/plain": [
       "<IPython.lib.display.IFrame at 0x26f81416650>"
      ]
     },
     "execution_count": 2,
     "metadata": {},
     "output_type": "execute_result"
    }
   ],
   "source": [
    "from IPython.display import IFrame\n",
    "IFrame(\"RESERVORIO_5_M3.pdf\", width=860, height=500)"
   ]
  },
  {
   "cell_type": "code",
   "execution_count": 4,
   "id": "b5334e8d-0cec-4b3a-9e1c-ecc20134d5b4",
   "metadata": {},
   "outputs": [
    {
     "data": {
      "text/html": [
       "\n",
       "        <iframe\n",
       "            width=\"860\"\n",
       "            height=\"500\"\n",
       "            src=\"RESERVORIO_12_M3.pdf\"\n",
       "            frameborder=\"0\"\n",
       "            allowfullscreen\n",
       "            \n",
       "        ></iframe>\n",
       "        "
      ],
      "text/plain": [
       "<IPython.lib.display.IFrame at 0x26f8108c890>"
      ]
     },
     "execution_count": 4,
     "metadata": {},
     "output_type": "execute_result"
    }
   ],
   "source": [
    "from IPython.display import IFrame\n",
    "IFrame(\"RESERVORIO_12_M3.pdf\", width=860, height=500)"
   ]
  },
  {
   "cell_type": "markdown",
   "id": "59b99ddb",
   "metadata": {},
   "source": [
    "<h2>Plano a detalle de la red de distribución</h2>"
   ]
  },
  {
   "cell_type": "code",
   "execution_count": null,
   "id": "e9e7630f",
   "metadata": {},
   "outputs": [],
   "source": []
  },
  {
   "cell_type": "markdown",
   "id": "cf444aa2",
   "metadata": {},
   "source": [
    "<h2>Perfiles longitudinales de la red primaria</h2>"
   ]
  },
  {
   "cell_type": "code",
   "execution_count": null,
   "id": "0d76a507",
   "metadata": {},
   "outputs": [],
   "source": []
  },
  {
   "cell_type": "markdown",
   "id": "75204a74",
   "metadata": {},
   "source": [
    "<h2> Detalles de la protección de la tubería</h2>"
   ]
  },
  {
   "cell_type": "code",
   "execution_count": null,
   "id": "5a85bc14",
   "metadata": {},
   "outputs": [],
   "source": []
  },
  {
   "cell_type": "markdown",
   "id": "308dc8bd",
   "metadata": {},
   "source": [
    "<h2>Plano de estructuras</h2>"
   ]
  },
  {
   "cell_type": "code",
   "execution_count": null,
   "id": "e1bea3fb",
   "metadata": {},
   "outputs": [],
   "source": []
  },
  {
   "cell_type": "markdown",
   "id": "75881910",
   "metadata": {},
   "source": [
    "# <b>Costos y presupuestos de obra</b>"
   ]
  },
  {
   "cell_type": "code",
   "execution_count": 7,
   "id": "83c6f1b7-c815-4903-975f-5109586274f8",
   "metadata": {},
   "outputs": [
    {
     "data": {
      "text/html": [
       "\n",
       "        <iframe\n",
       "            width=\"860\"\n",
       "            height=\"500\"\n",
       "            src=\"COSTO_DE_OBRA.pdf\"\n",
       "            frameborder=\"0\"\n",
       "            allowfullscreen\n",
       "            \n",
       "        ></iframe>\n",
       "        "
      ],
      "text/plain": [
       "<IPython.lib.display.IFrame at 0x26f8144a090>"
      ]
     },
     "execution_count": 7,
     "metadata": {},
     "output_type": "execute_result"
    }
   ],
   "source": [
    "from IPython.display import IFrame\n",
    "IFrame(\"COSTO_DE_OBRA.pdf\", width=860, height=500)"
   ]
  },
  {
   "cell_type": "code",
   "execution_count": 5,
   "id": "1c1e9932-26ae-4489-bb71-9a2bdfa0c485",
   "metadata": {},
   "outputs": [
    {
     "data": {
      "text/html": [
       "\n",
       "        <iframe\n",
       "            width=\"860\"\n",
       "            height=\"500\"\n",
       "            src=\"PRESUPUESTO_DE_OBRA.pdf\"\n",
       "            frameborder=\"0\"\n",
       "            allowfullscreen\n",
       "            \n",
       "        ></iframe>\n",
       "        "
      ],
      "text/plain": [
       "<IPython.lib.display.IFrame at 0x26f81440ad0>"
      ]
     },
     "execution_count": 5,
     "metadata": {},
     "output_type": "execute_result"
    }
   ],
   "source": [
    "from IPython.display import IFrame\n",
    "IFrame(\"PRESUPUESTO_DE_OBRA.pdf\", width=860, height=500)"
   ]
  },
  {
   "cell_type": "markdown",
   "id": "0ee186f9",
   "metadata": {},
   "source": []
  },
  {
   "cell_type": "markdown",
   "id": "653206c8",
   "metadata": {},
   "source": [
    "# <b>Programación de obra</b>"
   ]
  },
  {
   "cell_type": "code",
   "execution_count": 6,
   "id": "221ace04",
   "metadata": {},
   "outputs": [
    {
     "data": {
      "text/html": [
       "\n",
       "        <iframe\n",
       "            width=\"860\"\n",
       "            height=\"500\"\n",
       "            src=\"CRONOGRAMA.pdf\"\n",
       "            frameborder=\"0\"\n",
       "            allowfullscreen\n",
       "            \n",
       "        ></iframe>\n",
       "        "
      ],
      "text/plain": [
       "<IPython.lib.display.IFrame at 0x26f81440dd0>"
      ]
     },
     "execution_count": 6,
     "metadata": {},
     "output_type": "execute_result"
    }
   ],
   "source": [
    "from IPython.display import IFrame\n",
    "IFrame(\"CRONOGRAMA.pdf\", width=860, height=500)"
   ]
  },
  {
   "cell_type": "markdown",
   "id": "8b0fb4af",
   "metadata": {},
   "source": [
    "# <b>Anexo 1 - Memoria de cálculo hidráulico </b>"
   ]
  },
  {
   "cell_type": "code",
   "execution_count": null,
   "id": "6341d33b",
   "metadata": {},
   "outputs": [],
   "source": []
  },
  {
   "cell_type": "markdown",
   "id": "0dfe36af",
   "metadata": {},
   "source": [
    "# <b>Anexo 2 - Memoria de cálculo estructural </b>"
   ]
  },
  {
   "cell_type": "code",
   "execution_count": null,
   "id": "70628ccd",
   "metadata": {},
   "outputs": [],
   "source": []
  }
 ],
 "metadata": {
  "kernelspec": {
   "display_name": "Python 3 (ipykernel)",
   "language": "python",
   "name": "python3"
  },
  "language_info": {
   "codemirror_mode": {
    "name": "ipython",
    "version": 3
   },
   "file_extension": ".py",
   "mimetype": "text/x-python",
   "name": "python",
   "nbconvert_exporter": "python",
   "pygments_lexer": "ipython3",
   "version": "3.11.7"
  }
 },
 "nbformat": 4,
 "nbformat_minor": 5
}
